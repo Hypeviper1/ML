{
 "cells": [
  {
   "cell_type": "code",
   "execution_count": 1,
   "id": "a9c5d653",
   "metadata": {},
   "outputs": [],
   "source": [
    "import numpy as np"
   ]
  },
  {
   "cell_type": "markdown",
   "id": "2cfc1fbd",
   "metadata": {},
   "source": [
    "asdjaskdbdsj"
   ]
  },
  {
   "cell_type": "code",
   "execution_count": null,
   "id": "b565749a",
   "metadata": {},
   "outputs": [],
   "source": []
  }
 ],
 "metadata": {
  "kernelspec": {
   "display_name": "Python 3",
   "language": "python",
   "name": "python3"
  },
  "language_info": {
   "codemirror_mode": {
    "name": "ipython",
    "version": 3
   },
   "file_extension": ".py",
   "mimetype": "text/x-python",
   "name": "python",
   "nbconvert_exporter": "python",
   "pygments_lexer": "ipython3",
   "version": "3.13.7"
  }
 },
 "nbformat": 4,
 "nbformat_minor": 5
}
