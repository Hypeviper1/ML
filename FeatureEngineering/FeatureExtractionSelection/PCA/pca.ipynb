{
 "cells": [
  {
   "cell_type": "markdown",
   "id": "3d1842fb",
   "metadata": {},
   "source": [
    "#### **Features Selection** : it is the process of selecting most useful features \n",
    "  If there are multiple column in datasets , plot the columns and select the only column which das maximum spread over x-axis when projection or Column having most variance because it is the most important columns\n",
    "  \n"
   ]
  },
  {
   "cell_type": "markdown",
   "id": "2fd72675",
   "metadata": {},
   "source": [
    "#### **Features Extraction:** \n",
    "When bost data has same same kind of spread over respective axis, then Features Extraction cannot give the clear idea , where comes the Feature Extraction"
   ]
  },
  {
   "cell_type": "markdown",
   "id": "980230c7",
   "metadata": {},
   "source": []
  }
 ],
 "metadata": {
  "language_info": {
   "name": "python"
  }
 },
 "nbformat": 4,
 "nbformat_minor": 5
}
